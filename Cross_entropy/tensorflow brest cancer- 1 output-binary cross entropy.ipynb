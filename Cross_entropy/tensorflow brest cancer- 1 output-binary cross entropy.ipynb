{
 "cells": [
  {
   "cell_type": "code",
   "execution_count": 28,
   "metadata": {},
   "outputs": [],
   "source": [
    "import tensorflow as tf\n",
    "import pandas as pd\n",
    "import numpy as np\n",
    "import matplotlib.pyplot as plt\n",
    "import seaborn as sns\n",
    "sns.set()"
   ]
  },
  {
   "cell_type": "markdown",
   "metadata": {},
   "source": [
    "### create the machine learning algorithm"
   ]
  },
  {
   "cell_type": "code",
   "execution_count": 29,
   "metadata": {},
   "outputs": [],
   "source": [
    "npz = np.load('Brest_Cancer_data_train.npz')\n",
    "train_inputs = npz['inputs'].astype(np.float)\n",
    "train_targets = npz['targets'].astype(np.int)\n",
    "\n",
    "npz = np.load('Brest_Cancer_data_validation.npz')\n",
    "validation_inputs, validation_targets = npz['inputs'].astype(np.float), npz['targets'].astype(np.int)\n",
    "\n",
    "npz = np.load('Brest_Cancer_data_test.npz')\n",
    "test_inputs, test_targets = npz['inputs'].astype(np.float), npz['targets'].astype(np.int)"
   ]
  },
  {
   "cell_type": "code",
   "execution_count": 30,
   "metadata": {},
   "outputs": [
    {
     "data": {
      "text/plain": [
       "(49, 9)"
      ]
     },
     "execution_count": 30,
     "metadata": {},
     "output_type": "execute_result"
    }
   ],
   "source": [
    "test_inputs.shape"
   ]
  },
  {
   "cell_type": "code",
   "execution_count": 31,
   "metadata": {},
   "outputs": [
    {
     "data": {
      "text/plain": [
       "(49,)"
      ]
     },
     "execution_count": 31,
     "metadata": {},
     "output_type": "execute_result"
    }
   ],
   "source": [
    "test_targets.shape"
   ]
  },
  {
   "cell_type": "code",
   "execution_count": null,
   "metadata": {},
   "outputs": [],
   "source": []
  },
  {
   "cell_type": "code",
   "execution_count": 32,
   "metadata": {},
   "outputs": [
    {
     "data": {
      "text/plain": [
       "(382, 9)"
      ]
     },
     "execution_count": 32,
     "metadata": {},
     "output_type": "execute_result"
    }
   ],
   "source": [
    "train_inputs.shape"
   ]
  },
  {
   "cell_type": "code",
   "execution_count": 33,
   "metadata": {},
   "outputs": [
    {
     "data": {
      "text/plain": [
       "(382,)"
      ]
     },
     "execution_count": 33,
     "metadata": {},
     "output_type": "execute_result"
    }
   ],
   "source": [
    "train_targets.shape"
   ]
  },
  {
   "cell_type": "code",
   "execution_count": 34,
   "metadata": {},
   "outputs": [
    {
     "data": {
      "text/plain": [
       "array([0, 1, 0, 1, 1, 0, 0, 1, 0, 1, 1, 0, 1, 1, 1, 1, 0, 1, 0, 1, 1, 1,\n",
       "       0, 0, 1, 1, 1, 0, 0, 0, 0, 0, 0, 0, 1, 1, 0, 1, 0, 0, 0, 1, 1, 1,\n",
       "       1, 1, 1, 1, 1, 0, 1, 0, 0, 1, 0, 0, 1, 1, 1, 1, 1, 1, 0, 1, 1, 0,\n",
       "       1, 0, 1, 0, 1, 0, 0, 0, 0, 0, 0, 1, 0, 1, 1, 1, 1, 0, 0, 1, 1, 1,\n",
       "       0, 0, 1, 1, 0, 1, 1, 0, 1, 1, 1, 1, 1, 1, 1, 1, 1, 0, 1, 1, 0, 1,\n",
       "       1, 0, 1, 0, 1, 0, 0, 1, 0, 0, 1, 0, 0, 1, 0, 0, 0, 1, 0, 0, 0, 0,\n",
       "       0, 1, 1, 0, 0, 1, 1, 1, 0, 1, 0, 1, 1, 0, 0, 1, 1, 1, 1, 0, 1, 0,\n",
       "       0, 1, 1, 0, 1, 1, 0, 1, 1, 0, 0, 1, 0, 1, 0, 0, 0, 0, 0, 1, 0, 1,\n",
       "       1, 1, 1, 0, 0, 1, 0, 0, 0, 0, 1, 0, 1, 1, 0, 0, 0, 0, 0, 0, 1, 1,\n",
       "       0, 1, 1, 0, 0, 0, 0, 1, 1, 1, 0, 0, 0, 1, 1, 1, 1, 1, 0, 0, 1, 1,\n",
       "       1, 0, 1, 0, 1, 1, 0, 0, 0, 1, 1, 0, 1, 1, 0, 1, 0, 0, 0, 1, 0, 1,\n",
       "       0, 1, 0, 0, 1, 0, 1, 0, 1, 1, 0, 0, 1, 1, 0, 1, 1, 0, 0, 1, 1, 0,\n",
       "       1, 1, 0, 0, 0, 1, 1, 1, 1, 0, 0, 1, 1, 0, 1, 0, 0, 1, 1, 0, 0, 1,\n",
       "       0, 0, 0, 0, 0, 0, 0, 0, 1, 0, 1, 0, 1, 1, 1, 0, 0, 1, 0, 1, 1, 0,\n",
       "       0, 0, 0, 0, 0, 1, 1, 0, 1, 1, 0, 0, 1, 0, 0, 0, 0, 0, 0, 0, 0, 1,\n",
       "       0, 1, 0, 0, 1, 0, 0, 0, 1, 0, 0, 0, 0, 0, 0, 0, 1, 0, 1, 0, 0, 0,\n",
       "       0, 1, 0, 1, 1, 1, 1, 0, 1, 0, 1, 1, 0, 0, 0, 1, 0, 1, 1, 1, 1, 1,\n",
       "       1, 1, 0, 0, 0, 1, 0, 0])"
      ]
     },
     "execution_count": 34,
     "metadata": {},
     "output_type": "execute_result"
    }
   ],
   "source": [
    "train_targets"
   ]
  },
  {
   "cell_type": "markdown",
   "metadata": {},
   "source": [
    "# model\n",
    "outline, optimizers, loss, early stopping and training"
   ]
  },
  {
   "cell_type": "code",
   "execution_count": 35,
   "metadata": {},
   "outputs": [],
   "source": [
    "input_size = 9\n",
    "output_size = 1\n",
    "hidden_layer_size = 20\n",
    "\n",
    "model = tf.keras.Sequential([\n",
    "                            tf.keras.layers.Dense(100,input_shape = (9,)),\n",
    "                            tf.keras.layers.Dense(hidden_layer_size, activation = 'relu'),    \n",
    "                            tf.keras.layers.Dense(hidden_layer_size, activation = 'relu'), \n",
    "                            tf.keras.layers.Dense(output_size, activation = 'sigmoid')     \n",
    "                            ])\n",
    "\n"
   ]
  },
  {
   "cell_type": "code",
   "execution_count": 36,
   "metadata": {},
   "outputs": [],
   "source": [
    "model.compile(optimizer = 'adam', loss = 'binary_crossentropy', metrics = ['accuracy'])\n",
    "\n",
    "BATCH_SIZE = 60\n",
    "MAX_EPOCHS = 6\n",
    "\n",
    "#  'sparse_categorical_crossentropy'"
   ]
  },
  {
   "cell_type": "code",
   "execution_count": 37,
   "metadata": {},
   "outputs": [
    {
     "name": "stdout",
     "output_type": "stream",
     "text": [
      "Train on 382 samples, validate on 47 samples\n",
      "Epoch 1/6\n",
      "382/382 - 0s - loss: 0.7198 - accuracy: 0.3325 - val_loss: 0.6600 - val_accuracy: 0.7021\n",
      "Epoch 2/6\n",
      "382/382 - 0s - loss: 0.6184 - accuracy: 0.8743 - val_loss: 0.5717 - val_accuracy: 0.9362\n",
      "Epoch 3/6\n",
      "382/382 - 0s - loss: 0.5290 - accuracy: 0.9398 - val_loss: 0.4752 - val_accuracy: 0.9787\n",
      "Epoch 4/6\n",
      "382/382 - 0s - loss: 0.4323 - accuracy: 0.9529 - val_loss: 0.3765 - val_accuracy: 0.9787\n",
      "Epoch 5/6\n",
      "382/382 - 0s - loss: 0.3351 - accuracy: 0.9529 - val_loss: 0.2863 - val_accuracy: 0.9787\n",
      "Epoch 6/6\n",
      "382/382 - 0s - loss: 0.2548 - accuracy: 0.9503 - val_loss: 0.2141 - val_accuracy: 0.9787\n"
     ]
    }
   ],
   "source": [
    "r = model.fit(train_inputs,\n",
    "             train_targets,\n",
    "             batch_size = BATCH_SIZE, \n",
    "             epochs = MAX_EPOCHS,\n",
    "             validation_data = (validation_inputs, validation_targets),\n",
    "             verbose = 2)"
   ]
  },
  {
   "cell_type": "code",
   "execution_count": 38,
   "metadata": {},
   "outputs": [
    {
     "name": "stdout",
     "output_type": "stream",
     "text": [
      "49/49 [==============================] - 0s 101us/sample - loss: 0.2489 - accuracy: 0.9592\n"
     ]
    }
   ],
   "source": [
    "test_loss, test_accuracy = model.evaluate(test_inputs, test_targets)"
   ]
  },
  {
   "cell_type": "code",
   "execution_count": 39,
   "metadata": {},
   "outputs": [
    {
     "name": "stdout",
     "output_type": "stream",
     "text": [
      "\n",
      "Test loss: 0.25. Test accuracy:  95.92%\n"
     ]
    }
   ],
   "source": [
    "print('\\nTest loss: {0:.2f}. Test accuracy: {1: .2f}%'.format(test_loss, test_accuracy*100))"
   ]
  },
  {
   "cell_type": "code",
   "execution_count": 40,
   "metadata": {
    "colab": {
     "base_uri": "https://localhost:8080/",
     "height": 282
    },
    "colab_type": "code",
    "executionInfo": {
     "elapsed": 392,
     "status": "ok",
     "timestamp": 1585339359067,
     "user": {
      "displayName": "Gustavo Alcaraz",
      "photoUrl": "https://lh3.googleusercontent.com/a-/AOh14GhA920VUtdOomnzHdCBCv7hSmDY-bsOmLYIGDicnw=s64",
      "userId": "10968369920001392170"
     },
     "user_tz": 360
    },
    "id": "iPTN82qAOs26",
    "outputId": "c13a09f6-a755-45ff-992a-0be108b6a33f"
   },
   "outputs": [
    {
     "data": {
      "text/plain": [
       "<matplotlib.legend.Legend at 0x1f36058d708>"
      ]
     },
     "execution_count": 40,
     "metadata": {},
     "output_type": "execute_result"
    },
    {
     "data": {
      "image/png": "[encoded data removed]",
      "text/plain": [
       "<Figure size 432x288 with 1 Axes>"
      ]
     },
     "metadata": {},
     "output_type": "display_data"
    }
   ],
   "source": [
    "# PLOT LOSS AND VAL_LOSS OBTAINED BY MODEL.FIT()\n",
    "\n",
    "plt.plot(r.history['loss'], label = 'loss')\n",
    "plt.plot(r.history['val_loss'], label = 'val_loss')\n",
    "plt.legend()\n"
   ]
  },
  {
   "cell_type": "code",
   "execution_count": 41,
   "metadata": {
    "colab": {
     "base_uri": "https://localhost:8080/",
     "height": 285
    },
    "colab_type": "code",
    "executionInfo": {
     "elapsed": 663,
     "status": "ok",
     "timestamp": 1585345793228,
     "user": {
      "displayName": "Gustavo Alcaraz",
      "photoUrl": "https://lh3.googleusercontent.com/a-/AOh14GhA920VUtdOomnzHdCBCv7hSmDY-bsOmLYIGDicnw=s64",
      "userId": "10968369920001392170"
     },
     "user_tz": 360
    },
    "id": "N-pXwszlOsPt",
    "outputId": "aa9f76bd-7534-469f-d83d-3e3c2abec111"
   },
   "outputs": [
    {
     "data": {
      "text/plain": [
       "<matplotlib.legend.Legend at 0x1f3605db9c8>"
      ]
     },
     "execution_count": 41,
     "metadata": {},
     "output_type": "execute_result"
    },
    {
     "data": {
      "image/png": "[encoded data removed]",
      "text/plain": [
       "<Figure size 432x288 with 1 Axes>"
      ]
     },
     "metadata": {},
     "output_type": "display_data"
    }
   ],
   "source": [
    "# PLOT ACCURACY OBTAINED BY MODEL.FIT()\n",
    "\n",
    "plt.plot(r.history['accuracy'], label = 'accuracy')\n",
    "plt.plot(r.history['val_accuracy'], label = 'val_accuracy')\n",
    "plt.legend()"
   ]
  },
  {
   "cell_type": "code",
   "execution_count": 42,
   "metadata": {},
   "outputs": [],
   "source": [
    "# model.predict(np.expand_dims(test_inputs, test_targets) \n",
    "prediction = model.predict(test_inputs)\n",
    "#test_predictions = model.predict(normed_test_data).flatten()"
   ]
  },
  {
   "cell_type": "code",
   "execution_count": 43,
   "metadata": {},
   "outputs": [
    {
     "data": {
      "text/plain": [
       "array([[ 1.64748473,  1.82632633,  1.86301518,  1.44209826, -0.72231078,\n",
       "         1.39504948, -0.08127165, -0.78204417, -0.42117268],\n",
       "       [-1.27277868, -0.9026962 , -0.94030462, -0.77335664, -0.72231078,\n",
       "        -0.9043769 , -1.27049156, -0.78204417, -0.42117268],\n",
       "       [-1.27277868, -0.9026962 , -0.94030462, -0.77335664, -0.72231078,\n",
       "        -0.9043769 , -1.27049156, -0.78204417, -0.42117268],\n",
       "       [-0.29935755,  1.21987688,  0.92857525,  2.07508537,  0.09779505,\n",
       "         1.39504948,  1.10794825,  0.41130655, -0.42117268],\n",
       "       [ 0.02511617,  0.3102027 ,  0.30561529, -0.45686308,  0.50784796,\n",
       "         1.39504948, -0.08127165, -0.18536881, -0.42117268],\n",
       "       [ 0.02511617, -0.29624675,  0.61709527, -0.77335664, -0.72231078,\n",
       "        -0.9043769 , -1.27049156, -0.78204417, -0.42117268],\n",
       "       [-1.27277868, -0.9026962 , -0.94030462, -0.77335664, -0.72231078,\n",
       "        -0.9043769 , -0.87408492, -0.78204417, -0.42117268],\n",
       "       [-0.29935755, -0.9026962 , -0.94030462, -0.77335664, -0.72231078,\n",
       "        -0.9043769 , -0.47767829,  0.70964423, -0.42117268],\n",
       "       [-0.62383126, -0.9026962 , -0.94030462, -0.77335664, -0.72231078,\n",
       "        -0.9043769 , -1.27049156, -0.78204417, -0.42117268],\n",
       "       [-0.62383126,  0.00697797, -0.00586469,  2.07508537,  0.50784796,\n",
       "        -0.9043769 , -0.47767829, -0.18536881, -0.42117268],\n",
       "       [ 0.9985373 , -0.59947148, -0.94030462, -0.77335664,  0.50784796,\n",
       "        -0.9043769 , -1.27049156, -0.78204417, -0.42117268],\n",
       "       [ 1.64748473,  0.00697797,  0.61709527,  0.17612403,  0.50784796,\n",
       "         1.39504948,  1.10794825, -0.78204417, -0.42117268],\n",
       "       [ 0.9985373 ,  1.82632633,  1.86301518,  2.07508537,  0.91790087,\n",
       "         1.39504948,  2.29716815,  1.90299496,  4.0860036 ],\n",
       "       [ 0.02511617,  0.00697797,  0.61709527,  1.44209826,  0.09779505,\n",
       "        -0.9043769 ,  1.50435488,  1.90299496, -0.42117268],\n",
       "       [ 0.9985373 ,  1.82632633,  1.86301518, -0.77335664, -0.31225787,\n",
       "         0.3730822 , -0.47767829,  1.60465728, -0.42117268],\n",
       "       [ 0.02511617, -0.29624675, -0.31734466,  0.17612403, -0.72231078,\n",
       "        -0.13790144, -0.47767829,  0.11296887, -0.42117268],\n",
       "       [ 1.64748473,  0.3102027 ,  1.86301518, -0.14036953,  0.50784796,\n",
       "         0.88406584,  1.10794825,  1.3063196 ,  0.58042205],\n",
       "       [-0.29935755, -0.9026962 , -0.94030462, -0.77335664, -0.72231078,\n",
       "        -0.9043769 , -0.47767829, -0.78204417, -0.42117268],\n",
       "       [-1.27277868, -0.9026962 , -0.94030462, -0.77335664, -0.72231078,\n",
       "        -0.9043769 , -1.27049156, -0.78204417, -0.42117268],\n",
       "       [ 0.9985373 ,  0.91665215,  1.24005523, -0.45686308,  0.09779505,\n",
       "        -0.64888508,  0.31513498,  1.90299496, -0.42117268],\n",
       "       [-1.27277868, -0.9026962 , -0.94030462, -0.77335664, -0.72231078,\n",
       "        -0.9043769 , -0.87408492, -0.78204417, -0.42117268],\n",
       "       [-1.27277868, -0.9026962 , -0.94030462, -0.77335664, -0.72231078,\n",
       "        -0.39339326, -0.47767829, -0.78204417, -0.42117268],\n",
       "       [ 0.9985373 ,  1.82632633,  1.86301518,  2.07508537,  0.50784796,\n",
       "         1.39504948,  1.50435488,  1.90299496,  2.08281414],\n",
       "       [-0.62383126, -0.9026962 , -0.94030462, -0.14036953, -1.13236369,\n",
       "        -0.9043769 , -0.47767829, -0.78204417, -0.42117268],\n",
       "       [-1.27277868, -0.9026962 , -0.94030462, -0.77335664, -0.72231078,\n",
       "        -0.9043769 , -0.47767829, -0.78204417, -0.42117268],\n",
       "       [-0.29935755, -0.9026962 , -0.94030462, -0.77335664, -0.72231078,\n",
       "        -0.9043769 , -0.47767829, -0.78204417, -0.42117268],\n",
       "       [ 0.02511617,  1.82632633,  1.86301518,  1.75859181,  0.91790087,\n",
       "         1.39504948,  1.10794825,  1.90299496,  1.58201678],\n",
       "       [-0.62383126, -0.9026962 , -0.62882464, -0.77335664, -0.72231078,\n",
       "        -0.9043769 , -0.87408492, -0.78204417, -0.42117268],\n",
       "       [ 0.34958988, -0.9026962 , -0.31734466, -0.77335664,  0.09779505,\n",
       "         0.11759038,  0.31513498,  1.90299496, -0.42117268],\n",
       "       [-1.27277868, -0.9026962 , -0.94030462, -0.77335664, -1.13236369,\n",
       "        -0.9043769 , -0.47767829, -0.78204417, -0.42117268],\n",
       "       [ 1.64748473,  0.00697797,  0.92857525, -0.45686308, -0.72231078,\n",
       "         0.88406584,  0.71154162, -0.78204417, -0.42117268],\n",
       "       [ 0.02511617,  0.00697797, -0.00586469,  1.75859181, -0.72231078,\n",
       "         1.39504948,  0.31513498,  0.70964423, -0.42117268],\n",
       "       [-0.29935755, -0.9026962 , -0.94030462, -0.77335664, -0.72231078,\n",
       "        -0.39339326, -1.27049156, -0.78204417, -0.42117268],\n",
       "       [-1.27277868, -0.9026962 , -0.94030462, -0.77335664, -0.72231078,\n",
       "        -0.9043769 , -0.47767829, -0.78204417, -0.42117268],\n",
       "       [-0.29935755, -0.9026962 , -0.94030462, -0.14036953, -1.13236369,\n",
       "         0.11759038, -0.87408492, -0.78204417, -0.42117268],\n",
       "       [ 1.32301102,  1.82632633,  1.86301518, -0.77335664,  2.55811252,\n",
       "         0.88406584, -0.47767829, -0.18536881, -0.42117268],\n",
       "       [ 1.64748473,  0.91665215,  0.92857525,  0.17612403,  0.50784796,\n",
       "         1.39504948,  0.31513498,  1.00798192,  0.07962469],\n",
       "       [ 0.9985373 ,  1.82632633,  1.86301518,  2.07508537,  0.91790087,\n",
       "         1.39504948,  2.29716815,  1.90299496, -0.42117268],\n",
       "       [-0.62383126, -0.29624675,  0.61709527,  0.17612403,  0.50784796,\n",
       "         0.88406584, -0.08127165,  0.11296887, -0.42117268],\n",
       "       [ 0.02511617,  0.3102027 ,  0.30561529,  0.80911114, -0.31225787,\n",
       "         1.39504948, -0.47767829, -0.78204417, -0.42117268],\n",
       "       [ 0.02511617,  1.21987688, -0.00586469,  2.07508537,  0.50784796,\n",
       "         0.88406584,  1.90076152,  1.90299496, -0.42117268],\n",
       "       [-1.27277868, -0.9026962 , -0.94030462, -0.77335664, -0.72231078,\n",
       "        -0.9043769 , -0.87408492, -0.78204417, -0.42117268],\n",
       "       [-0.29935755,  1.82632633,  1.24005523,  0.49261759,  0.09779505,\n",
       "        -0.9043769 ,  2.29716815, -0.78204417, -0.42117268],\n",
       "       [-0.94830497, -0.9026962 , -0.94030462, -0.45686308, -0.31225787,\n",
       "        -0.9043769 , -0.87408492, -0.78204417, -0.42117268],\n",
       "       [-0.29935755, -0.9026962 , -0.94030462, -0.77335664, -0.72231078,\n",
       "        -0.64888508, -0.47767829, -0.48370649, -0.42117268],\n",
       "       [ 0.9985373 ,  0.3102027 ,  0.30561529,  0.49261759, -0.72231078,\n",
       "         1.39504948, -0.08127165, -0.18536881, -0.42117268],\n",
       "       [ 0.02511617,  1.82632633,  1.86301518, -0.14036953,  1.32795378,\n",
       "        -0.39339326,  1.50435488,  1.90299496,  0.07962469],\n",
       "       [-0.62383126, -0.9026962 , -0.94030462, -0.77335664, -0.72231078,\n",
       "        -0.64888508,  1.10794825, -0.78204417, -0.42117268],\n",
       "       [-1.27277868, -0.9026962 , -0.94030462, -0.77335664, -1.13236369,\n",
       "        -0.9043769 , -0.47767829, -0.78204417, -0.42117268]])"
      ]
     },
     "execution_count": 43,
     "metadata": {},
     "output_type": "execute_result"
    }
   ],
   "source": [
    "test_inputs"
   ]
  },
  {
   "cell_type": "code",
   "execution_count": 44,
   "metadata": {},
   "outputs": [
    {
     "data": {
      "text/plain": [
       "array([[0.9011951 ],\n",
       "       [0.11510286],\n",
       "       [0.11510286],\n",
       "       [0.87658066],\n",
       "       [0.5549844 ],\n",
       "       [0.28291515],\n",
       "       [0.12153412],\n",
       "       [0.2120826 ],\n",
       "       [0.14437826],\n",
       "       [0.5328705 ],\n",
       "       [0.32106125],\n",
       "       [0.79548436],\n",
       "       [0.99210054],\n",
       "       [0.88225967],\n",
       "       [0.8706732 ],\n",
       "       [0.35120386],\n",
       "       [0.9382543 ],\n",
       "       [0.17773758],\n",
       "       [0.11510286],\n",
       "       [0.8659096 ],\n",
       "       [0.12153412],\n",
       "       [0.14198934],\n",
       "       [0.98511684],\n",
       "       [0.15772918],\n",
       "       [0.12848277],\n",
       "       [0.17773758],\n",
       "       [0.9725276 ],\n",
       "       [0.16296078],\n",
       "       [0.5612034 ],\n",
       "       [0.11814028],\n",
       "       [0.7182518 ],\n",
       "       [0.7787139 ],\n",
       "       [0.17854625],\n",
       "       [0.12848277],\n",
       "       [0.20435683],\n",
       "       [0.8873619 ],\n",
       "       [0.9041934 ],\n",
       "       [0.9828393 ],\n",
       "       [0.55609167],\n",
       "       [0.6172183 ],\n",
       "       [0.9294829 ],\n",
       "       [0.12153412],\n",
       "       [0.73171806],\n",
       "       [0.15254295],\n",
       "       [0.19238532],\n",
       "       [0.71843064],\n",
       "       [0.92555636],\n",
       "       [0.20638643],\n",
       "       [0.11814028]], dtype=float32)"
      ]
     },
     "execution_count": 44,
     "metadata": {},
     "output_type": "execute_result"
    }
   ],
   "source": [
    "prediction"
   ]
  },
  {
   "cell_type": "code",
   "execution_count": 45,
   "metadata": {},
   "outputs": [
    {
     "data": {
      "text/plain": [
       "array([1, 0, 0, 1, 1, 0, 0, 0, 0, 1, 0, 1, 1, 1, 1, 1, 1, 0, 0, 1, 0, 0,\n",
       "       1, 0, 0, 0, 1, 0, 1, 0, 1, 1, 0, 0, 1, 1, 1, 1, 1, 1, 1, 0, 1, 0,\n",
       "       0, 1, 1, 0, 0])"
      ]
     },
     "execution_count": 45,
     "metadata": {},
     "output_type": "execute_result"
    }
   ],
   "source": [
    "test_targets"
   ]
  },
  {
   "cell_type": "markdown",
   "metadata": {},
   "source": [
    "CONFUSION MATRIX"
   ]
  },
  {
   "cell_type": "code",
   "execution_count": null,
   "metadata": {},
   "outputs": [],
   "source": []
  },
  {
   "cell_type": "code",
   "execution_count": 46,
   "metadata": {},
   "outputs": [],
   "source": [
    "# model.predict(np.expand_dims(test_inputs, test_targets) \n",
    "prediction = model.predict(test_inputs)\n",
    "#test_predictions = model.predict(normed_test_data).flatten()"
   ]
  },
  {
   "cell_type": "code",
   "execution_count": 47,
   "metadata": {},
   "outputs": [],
   "source": [
    "prediction_rounded = np.around(prediction)"
   ]
  },
  {
   "cell_type": "code",
   "execution_count": 48,
   "metadata": {},
   "outputs": [],
   "source": [
    "# just to compare with test_target\n",
    "prediction_rounded_trans = prediction_rounded.T"
   ]
  },
  {
   "cell_type": "code",
   "execution_count": 49,
   "metadata": {},
   "outputs": [
    {
     "data": {
      "text/plain": [
       "array([[1., 0., 0., 1., 1., 0., 0., 0., 0., 1., 0., 1., 1., 1., 1., 0.,\n",
       "        1., 0., 0., 1., 0., 0., 1., 0., 0., 0., 1., 0., 1., 0., 1., 1.,\n",
       "        0., 0., 0., 1., 1., 1., 1., 1., 1., 0., 1., 0., 0., 1., 1., 0.,\n",
       "        0.]], dtype=float32)"
      ]
     },
     "execution_count": 49,
     "metadata": {},
     "output_type": "execute_result"
    }
   ],
   "source": [
    "# just to compare with test_target\n",
    "prediction_rounded_trans"
   ]
  },
  {
   "cell_type": "code",
   "execution_count": 50,
   "metadata": {},
   "outputs": [
    {
     "data": {
      "text/plain": [
       "(49, 1)"
      ]
     },
     "execution_count": 50,
     "metadata": {},
     "output_type": "execute_result"
    }
   ],
   "source": [
    "prediction_rounded.shape"
   ]
  },
  {
   "cell_type": "code",
   "execution_count": 51,
   "metadata": {},
   "outputs": [
    {
     "data": {
      "text/plain": [
       "array([[23,  0],\n",
       "       [ 2, 24]], dtype=int64)"
      ]
     },
     "execution_count": 51,
     "metadata": {},
     "output_type": "execute_result"
    }
   ],
   "source": [
    "#y_predicted = model.predict(test_inputs)\n",
    "from sklearn.metrics import confusion_matrix\n",
    "\n",
    "cm = confusion_matrix(test_targets, prediction_rounded)\n",
    "cm"
   ]
  },
  {
   "cell_type": "markdown",
   "metadata": {},
   "source": [
    "MAKING A DATAFRAME FOR THE CONFUSION MATRIX"
   ]
  },
  {
   "cell_type": "code",
   "execution_count": 52,
   "metadata": {},
   "outputs": [
    {
     "data": {
      "text/html": [
       "<div>\n",
       "<style scoped>\n",
       "    .dataframe tbody tr th:only-of-type {\n",
       "        vertical-align: middle;\n",
       "    }\n",
       "\n",
       "    .dataframe tbody tr th {\n",
       "        vertical-align: top;\n",
       "    }\n",
       "\n",
       "    .dataframe thead th {\n",
       "        text-align: right;\n",
       "    }\n",
       "</style>\n",
       "<table border=\"1\" class=\"dataframe\">\n",
       "  <thead>\n",
       "    <tr style=\"text-align: right;\">\n",
       "      <th></th>\n",
       "      <th>Predicted 0</th>\n",
       "      <th>Predicted 1</th>\n",
       "    </tr>\n",
       "  </thead>\n",
       "  <tbody>\n",
       "    <tr>\n",
       "      <th>Actual 0</th>\n",
       "      <td>23</td>\n",
       "      <td>0</td>\n",
       "    </tr>\n",
       "    <tr>\n",
       "      <th>Actual 1</th>\n",
       "      <td>2</td>\n",
       "      <td>24</td>\n",
       "    </tr>\n",
       "  </tbody>\n",
       "</table>\n",
       "</div>"
      ],
      "text/plain": [
       "          Predicted 0  Predicted 1\n",
       "Actual 0           23            0\n",
       "Actual 1            2           24"
      ]
     },
     "execution_count": 52,
     "metadata": {},
     "output_type": "execute_result"
    }
   ],
   "source": [
    "cm_df = pd.DataFrame(cm)\n",
    "cm_df.columns = ['Predicted 0','Predicted 1']\n",
    "cm_df = cm_df.rename(index={0: 'Actual 0',1:'Actual 1'})\n",
    "cm_df"
   ]
  },
  {
   "cell_type": "markdown",
   "metadata": {},
   "source": [
    "TO VISUALIZE THE CONFUSION MATRIX"
   ]
  },
  {
   "cell_type": "code",
   "execution_count": 57,
   "metadata": {},
   "outputs": [
    {
     "data": {
      "text/plain": [
       "Text(30.5, 0.5, 'Truth')"
      ]
     },
     "execution_count": 57,
     "metadata": {},
     "output_type": "execute_result"
    },
    {
     "data": {
      "image/png": "[encoded data removed]",
      "text/plain": [
       "<Figure size 432x288 with 2 Axes>"
      ]
     },
     "metadata": {},
     "output_type": "display_data"
    }
   ],
   "source": [
    "#plt.figure(figsize = (12,10))\n",
    "sns.heatmap(cm, annot = True,annot_kws={'size':40}, linewidths=.5)\n",
    "#plt.xlim(-1, 10)\n",
    "plt.ylim(0, 2)\n",
    "plt.xlabel(\"Predicted\")\n",
    "plt.ylabel(\"Truth\")"
   ]
  },
  {
   "cell_type": "code",
   "execution_count": 54,
   "metadata": {},
   "outputs": [],
   "source": [
    "\n",
    "model.save('tensorflow brest cancer- 1 output-binary cross entropy.h5')"
   ]
  },
  {
   "cell_type": "code",
   "execution_count": null,
   "metadata": {},
   "outputs": [],
   "source": []
  },
  {
   "cell_type": "code",
   "execution_count": null,
   "metadata": {},
   "outputs": [],
   "source": []
  },
  {
   "cell_type": "code",
   "execution_count": null,
   "metadata": {},
   "outputs": [],
   "source": []
  },
  {
   "cell_type": "code",
   "execution_count": null,
   "metadata": {},
   "outputs": [],
   "source": []
  },
  {
   "cell_type": "code",
   "execution_count": null,
   "metadata": {},
   "outputs": [],
   "source": []
  },
  {
   "cell_type": "code",
   "execution_count": null,
   "metadata": {},
   "outputs": [],
   "source": []
  },
  {
   "cell_type": "code",
   "execution_count": null,
   "metadata": {},
   "outputs": [],
   "source": []
  },
  {
   "cell_type": "code",
   "execution_count": null,
   "metadata": {},
   "outputs": [],
   "source": []
  },
  {
   "cell_type": "code",
   "execution_count": null,
   "metadata": {},
   "outputs": [],
   "source": []
  },
  {
   "cell_type": "code",
   "execution_count": null,
   "metadata": {},
   "outputs": [],
   "source": []
  },
  {
   "cell_type": "code",
   "execution_count": null,
   "metadata": {},
   "outputs": [],
   "source": []
  },
  {
   "cell_type": "code",
   "execution_count": null,
   "metadata": {},
   "outputs": [],
   "source": []
  },
  {
   "cell_type": "code",
   "execution_count": null,
   "metadata": {},
   "outputs": [],
   "source": []
  }
 ],
 "metadata": {
  "kernelspec": {
   "display_name": "Python 3",
   "language": "python",
   "name": "python3"
  },
  "language_info": {
   "codemirror_mode": {
    "name": "ipython",
    "version": 3
   },
   "file_extension": ".py",
   "mimetype": "text/x-python",
   "name": "python",
   "nbconvert_exporter": "python",
   "pygments_lexer": "ipython3",
   "version": "3.7.4"
  }
 },
 "nbformat": 4,
 "nbformat_minor": 2
}
