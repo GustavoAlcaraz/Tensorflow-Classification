{
 "cells": [
  {
   "cell_type": "code",
   "execution_count": 1,
   "metadata": {},
   "outputs": [],
   "source": [
    "import tensorflow as tf\n",
    "import pandas as pd\n",
    "import numpy as np\n",
    "import matplotlib.pyplot as plt\n",
    "import seaborn as sns\n",
    "sns.set()"
   ]
  },
  {
   "cell_type": "markdown",
   "metadata": {},
   "source": [
    "### create the machine learning algorithm"
   ]
  },
  {
   "cell_type": "code",
   "execution_count": 2,
   "metadata": {},
   "outputs": [],
   "source": [
    "npz = np.load('Brest_Cancer_data_train.npz')\n",
    "train_inputs = npz['inputs'].astype(np.float)\n",
    "train_targets = npz['targets'].astype(np.int)\n",
    "\n",
    "npz = np.load('Brest_Cancer_data_validation.npz')\n",
    "validation_inputs, validation_targets = npz['inputs'].astype(np.float), npz['targets'].astype(np.int)\n",
    "\n",
    "npz = np.load('Brest_Cancer_data_test.npz')\n",
    "test_inputs, test_targets = npz['inputs'].astype(np.float), npz['targets'].astype(np.int)"
   ]
  },
  {
   "cell_type": "code",
   "execution_count": 3,
   "metadata": {},
   "outputs": [
    {
     "data": {
      "text/plain": [
       "(49, 9)"
      ]
     },
     "execution_count": 3,
     "metadata": {},
     "output_type": "execute_result"
    }
   ],
   "source": [
    "test_inputs.shape"
   ]
  },
  {
   "cell_type": "code",
   "execution_count": 4,
   "metadata": {},
   "outputs": [
    {
     "data": {
      "text/plain": [
       "(49,)"
      ]
     },
     "execution_count": 4,
     "metadata": {},
     "output_type": "execute_result"
    }
   ],
   "source": [
    "test_targets.shape"
   ]
  },
  {
   "cell_type": "code",
   "execution_count": null,
   "metadata": {},
   "outputs": [],
   "source": []
  },
  {
   "cell_type": "code",
   "execution_count": 5,
   "metadata": {},
   "outputs": [
    {
     "data": {
      "text/plain": [
       "(382, 9)"
      ]
     },
     "execution_count": 5,
     "metadata": {},
     "output_type": "execute_result"
    }
   ],
   "source": [
    "train_inputs.shape"
   ]
  },
  {
   "cell_type": "code",
   "execution_count": 6,
   "metadata": {},
   "outputs": [
    {
     "data": {
      "text/plain": [
       "(382,)"
      ]
     },
     "execution_count": 6,
     "metadata": {},
     "output_type": "execute_result"
    }
   ],
   "source": [
    "train_targets.shape"
   ]
  },
  {
   "cell_type": "code",
   "execution_count": 7,
   "metadata": {},
   "outputs": [
    {
     "data": {
      "text/plain": [
       "array([0, 1, 0, 1, 1, 0, 0, 1, 0, 1, 1, 0, 1, 1, 1, 1, 0, 1, 0, 1, 1, 1,\n",
       "       0, 0, 1, 1, 1, 0, 0, 0, 0, 0, 0, 0, 1, 1, 0, 1, 0, 0, 0, 1, 1, 1,\n",
       "       1, 1, 1, 1, 1, 0, 1, 0, 0, 1, 0, 0, 1, 1, 1, 1, 1, 1, 0, 1, 1, 0,\n",
       "       1, 0, 1, 0, 1, 0, 0, 0, 0, 0, 0, 1, 0, 1, 1, 1, 1, 0, 0, 1, 1, 1,\n",
       "       0, 0, 1, 1, 0, 1, 1, 0, 1, 1, 1, 1, 1, 1, 1, 1, 1, 0, 1, 1, 0, 1,\n",
       "       1, 0, 1, 0, 1, 0, 0, 1, 0, 0, 1, 0, 0, 1, 0, 0, 0, 1, 0, 0, 0, 0,\n",
       "       0, 1, 1, 0, 0, 1, 1, 1, 0, 1, 0, 1, 1, 0, 0, 1, 1, 1, 1, 0, 1, 0,\n",
       "       0, 1, 1, 0, 1, 1, 0, 1, 1, 0, 0, 1, 0, 1, 0, 0, 0, 0, 0, 1, 0, 1,\n",
       "       1, 1, 1, 0, 0, 1, 0, 0, 0, 0, 1, 0, 1, 1, 0, 0, 0, 0, 0, 0, 1, 1,\n",
       "       0, 1, 1, 0, 0, 0, 0, 1, 1, 1, 0, 0, 0, 1, 1, 1, 1, 1, 0, 0, 1, 1,\n",
       "       1, 0, 1, 0, 1, 1, 0, 0, 0, 1, 1, 0, 1, 1, 0, 1, 0, 0, 0, 1, 0, 1,\n",
       "       0, 1, 0, 0, 1, 0, 1, 0, 1, 1, 0, 0, 1, 1, 0, 1, 1, 0, 0, 1, 1, 0,\n",
       "       1, 1, 0, 0, 0, 1, 1, 1, 1, 0, 0, 1, 1, 0, 1, 0, 0, 1, 1, 0, 0, 1,\n",
       "       0, 0, 0, 0, 0, 0, 0, 0, 1, 0, 1, 0, 1, 1, 1, 0, 0, 1, 0, 1, 1, 0,\n",
       "       0, 0, 0, 0, 0, 1, 1, 0, 1, 1, 0, 0, 1, 0, 0, 0, 0, 0, 0, 0, 0, 1,\n",
       "       0, 1, 0, 0, 1, 0, 0, 0, 1, 0, 0, 0, 0, 0, 0, 0, 1, 0, 1, 0, 0, 0,\n",
       "       0, 1, 0, 1, 1, 1, 1, 0, 1, 0, 1, 1, 0, 0, 0, 1, 0, 1, 1, 1, 1, 1,\n",
       "       1, 1, 0, 0, 0, 1, 0, 0])"
      ]
     },
     "execution_count": 7,
     "metadata": {},
     "output_type": "execute_result"
    }
   ],
   "source": [
    "train_targets"
   ]
  },
  {
   "cell_type": "markdown",
   "metadata": {},
   "source": [
    "# model\n",
    "outline, optimizers, loss, early stopping and training"
   ]
  },
  {
   "cell_type": "code",
   "execution_count": 8,
   "metadata": {},
   "outputs": [],
   "source": [
    "input_size = 9\n",
    "output_size = 2\n",
    "hidden_layer_size = 20\n",
    "\n",
    "model = tf.keras.Sequential([\n",
    "                            #tf.keras.layers.Dense(100,input_shape = (9,)),\n",
    "                            tf.keras.layers.Dense(hidden_layer_size, activation = 'relu'),    \n",
    "                            tf.keras.layers.Dense(hidden_layer_size, activation = 'relu'), \n",
    "                            tf.keras.layers.Dense(output_size, activation = 'softmax')     \n",
    "                            ])\n",
    "\n",
    "# The number of input dimensions is often unnecessary, as it can be inferred\n",
    "# the first time the layer is used, but it can be provided if you want to\n",
    "# specify it manually, which is useful in some complex models.\n",
    "# tf.keras.layers.Dense(10, input_shape=(D,))"
   ]
  },
  {
   "cell_type": "markdown",
   "metadata": {},
   "source": [
    "#Create an arbitrary graph of layers, by connecting them\n",
    "#via the apply() method.\n",
    "input = tf.input({shape: [9]});\n",
    "dense1 = tf.layers.dense({units: 20, activation: 'relu'}).apply(input);\n",
    "dense2 = tf.layers.dense({units: 20, activation: 'softmax'}).apply(dense1);\n",
    "model = tf.model({inputs: input, outputs: dense2});"
   ]
  },
  {
   "cell_type": "code",
   "execution_count": 9,
   "metadata": {},
   "outputs": [],
   "source": [
    "model.compile(optimizer = 'adam', loss = 'sparse_categorical_crossentropy', metrics = ['accuracy'])\n",
    "\n",
    "BATCH_SIZE = 60\n",
    "MAX_EPOCHS = 80\n",
    "\n",
    "early_stopping = tf.keras.callbacks.EarlyStopping(patience = 2)\n",
    "#  'sparse_categorical_crossentropy'"
   ]
  },
  {
   "cell_type": "code",
   "execution_count": 10,
   "metadata": {
    "scrolled": true
   },
   "outputs": [
    {
     "name": "stdout",
     "output_type": "stream",
     "text": [
      "Train on 382 samples, validate on 47 samples\n",
      "Epoch 1/80\n",
      "382/382 - 0s - loss: 0.7955 - accuracy: 0.2801 - val_loss: 0.7051 - val_accuracy: 0.6170\n",
      "Epoch 2/80\n",
      "382/382 - 0s - loss: 0.6635 - accuracy: 0.7120 - val_loss: 0.5891 - val_accuracy: 0.8298\n",
      "Epoch 3/80\n",
      "382/382 - 0s - loss: 0.5625 - accuracy: 0.8168 - val_loss: 0.4986 - val_accuracy: 0.9149\n",
      "Epoch 4/80\n",
      "382/382 - 0s - loss: 0.4772 - accuracy: 0.9136 - val_loss: 0.4263 - val_accuracy: 0.9362\n",
      "Epoch 5/80\n",
      "382/382 - 0s - loss: 0.4105 - accuracy: 0.9398 - val_loss: 0.3636 - val_accuracy: 0.9574\n",
      "Epoch 6/80\n",
      "382/382 - 0s - loss: 0.3539 - accuracy: 0.9529 - val_loss: 0.3100 - val_accuracy: 0.9574\n",
      "Epoch 7/80\n",
      "382/382 - 0s - loss: 0.3061 - accuracy: 0.9529 - val_loss: 0.2650 - val_accuracy: 0.9574\n",
      "Epoch 8/80\n",
      "382/382 - 0s - loss: 0.2656 - accuracy: 0.9607 - val_loss: 0.2276 - val_accuracy: 0.9574\n",
      "Epoch 9/80\n",
      "382/382 - 0s - loss: 0.2319 - accuracy: 0.9607 - val_loss: 0.1974 - val_accuracy: 0.9574\n",
      "Epoch 10/80\n",
      "382/382 - 0s - loss: 0.2046 - accuracy: 0.9634 - val_loss: 0.1730 - val_accuracy: 0.9574\n",
      "Epoch 11/80\n",
      "382/382 - 0s - loss: 0.1829 - accuracy: 0.9634 - val_loss: 0.1540 - val_accuracy: 0.9574\n",
      "Epoch 12/80\n",
      "382/382 - 0s - loss: 0.1664 - accuracy: 0.9634 - val_loss: 0.1383 - val_accuracy: 0.9574\n",
      "Epoch 13/80\n",
      "382/382 - 0s - loss: 0.1532 - accuracy: 0.9634 - val_loss: 0.1262 - val_accuracy: 0.9574\n",
      "Epoch 14/80\n",
      "382/382 - 0s - loss: 0.1429 - accuracy: 0.9634 - val_loss: 0.1173 - val_accuracy: 0.9574\n",
      "Epoch 15/80\n",
      "382/382 - 0s - loss: 0.1352 - accuracy: 0.9634 - val_loss: 0.1107 - val_accuracy: 0.9574\n",
      "Epoch 16/80\n",
      "382/382 - 0s - loss: 0.1289 - accuracy: 0.9634 - val_loss: 0.1050 - val_accuracy: 0.9574\n",
      "Epoch 17/80\n",
      "382/382 - 0s - loss: 0.1235 - accuracy: 0.9660 - val_loss: 0.1002 - val_accuracy: 0.9574\n",
      "Epoch 18/80\n",
      "382/382 - 0s - loss: 0.1191 - accuracy: 0.9660 - val_loss: 0.0963 - val_accuracy: 0.9574\n",
      "Epoch 19/80\n",
      "382/382 - 0s - loss: 0.1155 - accuracy: 0.9660 - val_loss: 0.0931 - val_accuracy: 0.9574\n",
      "Epoch 20/80\n",
      "382/382 - 0s - loss: 0.1127 - accuracy: 0.9660 - val_loss: 0.0898 - val_accuracy: 0.9574\n",
      "Epoch 21/80\n",
      "382/382 - 0s - loss: 0.1100 - accuracy: 0.9660 - val_loss: 0.0876 - val_accuracy: 0.9574\n",
      "Epoch 22/80\n",
      "382/382 - 0s - loss: 0.1079 - accuracy: 0.9660 - val_loss: 0.0863 - val_accuracy: 0.9574\n",
      "Epoch 23/80\n",
      "382/382 - 0s - loss: 0.1061 - accuracy: 0.9660 - val_loss: 0.0847 - val_accuracy: 0.9574\n",
      "Epoch 24/80\n",
      "382/382 - 0s - loss: 0.1040 - accuracy: 0.9660 - val_loss: 0.0841 - val_accuracy: 0.9574\n",
      "Epoch 25/80\n",
      "382/382 - 0s - loss: 0.1029 - accuracy: 0.9660 - val_loss: 0.0830 - val_accuracy: 0.9574\n",
      "Epoch 26/80\n",
      "382/382 - 0s - loss: 0.1015 - accuracy: 0.9634 - val_loss: 0.0819 - val_accuracy: 0.9574\n",
      "Epoch 27/80\n",
      "382/382 - 0s - loss: 0.1000 - accuracy: 0.9634 - val_loss: 0.0816 - val_accuracy: 0.9574\n",
      "Epoch 28/80\n",
      "382/382 - 0s - loss: 0.0989 - accuracy: 0.9634 - val_loss: 0.0814 - val_accuracy: 0.9574\n",
      "Epoch 29/80\n",
      "382/382 - 0s - loss: 0.0978 - accuracy: 0.9634 - val_loss: 0.0805 - val_accuracy: 0.9574\n",
      "Epoch 30/80\n",
      "382/382 - 0s - loss: 0.0967 - accuracy: 0.9634 - val_loss: 0.0800 - val_accuracy: 0.9574\n",
      "Epoch 31/80\n",
      "382/382 - 0s - loss: 0.0957 - accuracy: 0.9634 - val_loss: 0.0800 - val_accuracy: 0.9574\n",
      "Epoch 32/80\n",
      "382/382 - 0s - loss: 0.0948 - accuracy: 0.9634 - val_loss: 0.0799 - val_accuracy: 0.9574\n",
      "Epoch 33/80\n",
      "382/382 - 0s - loss: 0.0938 - accuracy: 0.9634 - val_loss: 0.0797 - val_accuracy: 0.9574\n",
      "Epoch 34/80\n",
      "382/382 - 0s - loss: 0.0930 - accuracy: 0.9634 - val_loss: 0.0796 - val_accuracy: 0.9574\n",
      "Epoch 35/80\n",
      "382/382 - 0s - loss: 0.0923 - accuracy: 0.9634 - val_loss: 0.0800 - val_accuracy: 0.9574\n",
      "Epoch 36/80\n",
      "382/382 - 0s - loss: 0.0914 - accuracy: 0.9634 - val_loss: 0.0800 - val_accuracy: 0.9574\n"
     ]
    }
   ],
   "source": [
    "r = model.fit(train_inputs,\n",
    "             train_targets,\n",
    "             batch_size = BATCH_SIZE, \n",
    "             epochs = MAX_EPOCHS,\n",
    "             callbacks = [early_stopping],\n",
    "             validation_data = (validation_inputs, validation_targets),\n",
    "             verbose = 2)"
   ]
  },
  {
   "cell_type": "code",
   "execution_count": 11,
   "metadata": {},
   "outputs": [
    {
     "name": "stdout",
     "output_type": "stream",
     "text": [
      "49/49 [==============================] - 0s 122us/sample - loss: 0.1550 - accuracy: 0.9388\n"
     ]
    }
   ],
   "source": [
    "test_loss, test_accuracy = model.evaluate(test_inputs, test_targets)"
   ]
  },
  {
   "cell_type": "code",
   "execution_count": 12,
   "metadata": {},
   "outputs": [
    {
     "name": "stdout",
     "output_type": "stream",
     "text": [
      "\n",
      "Test loss: 0.16. Test accuracy:  93.88%\n"
     ]
    }
   ],
   "source": [
    "print('\\nTest loss: {0:.2f}. Test accuracy: {1: .2f}%'.format(test_loss, test_accuracy*100))"
   ]
  },
  {
   "cell_type": "code",
   "execution_count": 13,
   "metadata": {
    "colab": {
     "base_uri": "https://localhost:8080/",
     "height": 282
    },
    "colab_type": "code",
    "collapsed": true,
    "executionInfo": {
     "elapsed": 392,
     "status": "ok",
     "timestamp": 1585339359067,
     "user": {
      "displayName": "Gustavo Alcaraz",
      "photoUrl": "https://lh3.googleusercontent.com/a-/AOh14GhA920VUtdOomnzHdCBCv7hSmDY-bsOmLYIGDicnw=s64",
      "userId": "10968369920001392170"
     },
     "user_tz": 360
    },
    "id": "iPTN82qAOs26",
    "outputId": "c13a09f6-a755-45ff-992a-0be108b6a33f"
   },
   "outputs": [
    {
     "data": {
      "text/plain": [
       "<matplotlib.legend.Legend at 0x27a1de00f08>"
      ]
     },
     "execution_count": 13,
     "metadata": {},
     "output_type": "execute_result"
    },
    {
     "data": {
      "image/png": "[encoded data removed]",
      "text/plain": [
       "<Figure size 432x288 with 1 Axes>"
      ]
     },
     "metadata": {},
     "output_type": "display_data"
    }
   ],
   "source": [
    "# PLOT LOSS AND VAL_LOSS OBTAINED BY MODEL.FIT()\n",
    "\n",
    "plt.plot(r.history['loss'], label = 'loss')\n",
    "plt.plot(r.history['val_loss'], label = 'val_loss')\n",
    "plt.legend()\n"
   ]
  },
  {
   "cell_type": "code",
   "execution_count": 14,
   "metadata": {
    "colab": {
     "base_uri": "https://localhost:8080/",
     "height": 285
    },
    "colab_type": "code",
    "executionInfo": {
     "elapsed": 663,
     "status": "ok",
     "timestamp": 1585345793228,
     "user": {
      "displayName": "Gustavo Alcaraz",
      "photoUrl": "https://lh3.googleusercontent.com/a-/AOh14GhA920VUtdOomnzHdCBCv7hSmDY-bsOmLYIGDicnw=s64",
      "userId": "10968369920001392170"
     },
     "user_tz": 360
    },
    "id": "N-pXwszlOsPt",
    "outputId": "aa9f76bd-7534-469f-d83d-3e3c2abec111"
   },
   "outputs": [
    {
     "data": {
      "text/plain": [
       "<matplotlib.legend.Legend at 0x27a1e151cc8>"
      ]
     },
     "execution_count": 14,
     "metadata": {},
     "output_type": "execute_result"
    },
    {
     "data": {
      "image/png": "[encoded data removed]",
      "text/plain": [
       "<Figure size 432x288 with 1 Axes>"
      ]
     },
     "metadata": {},
     "output_type": "display_data"
    }
   ],
   "source": [
    "# PLOT ACCURACY OBTAINED BY MODEL.FIT()\n",
    "\n",
    "plt.plot(r.history['accuracy'], label = 'accuracy')\n",
    "plt.plot(r.history['val_accuracy'], label = 'val_accuracy')\n",
    "plt.legend()"
   ]
  },
  {
   "cell_type": "code",
   "execution_count": 15,
   "metadata": {},
   "outputs": [],
   "source": [
    "# model.predict(np.expand_dims(test_inputs, test_targets) \n",
    "prediction = model.predict(test_inputs)\n",
    "#test_predictions = model.predict(normed_test_data).flatten()"
   ]
  },
  {
   "cell_type": "code",
   "execution_count": 16,
   "metadata": {},
   "outputs": [
    {
     "data": {
      "text/plain": [
       "(49, 9)"
      ]
     },
     "execution_count": 16,
     "metadata": {},
     "output_type": "execute_result"
    }
   ],
   "source": [
    "test_inputs.shape"
   ]
  },
  {
   "cell_type": "code",
   "execution_count": 17,
   "metadata": {},
   "outputs": [
    {
     "data": {
      "text/plain": [
       "(49, 2)"
      ]
     },
     "execution_count": 17,
     "metadata": {},
     "output_type": "execute_result"
    }
   ],
   "source": [
    "prediction.shape"
   ]
  },
  {
   "cell_type": "code",
   "execution_count": 18,
   "metadata": {},
   "outputs": [],
   "source": [
    "prediction_round = np.round(prediction)"
   ]
  },
  {
   "cell_type": "code",
   "execution_count": 19,
   "metadata": {
    "collapsed": true
   },
   "outputs": [
    {
     "data": {
      "text/plain": [
       "array([[0., 1.],\n",
       "       [1., 0.],\n",
       "       [1., 0.],\n",
       "       [0., 1.],\n",
       "       [0., 1.],\n",
       "       [1., 0.],\n",
       "       [1., 0.],\n",
       "       [1., 0.],\n",
       "       [1., 0.],\n",
       "       [1., 0.],\n",
       "       [1., 0.],\n",
       "       [0., 1.],\n",
       "       [0., 1.],\n",
       "       [0., 1.],\n",
       "       [0., 1.],\n",
       "       [1., 0.],\n",
       "       [0., 1.],\n",
       "       [1., 0.],\n",
       "       [1., 0.],\n",
       "       [0., 1.],\n",
       "       [1., 0.],\n",
       "       [1., 0.],\n",
       "       [0., 1.],\n",
       "       [1., 0.],\n",
       "       [1., 0.],\n",
       "       [1., 0.],\n",
       "       [0., 1.],\n",
       "       [1., 0.],\n",
       "       [0., 1.],\n",
       "       [1., 0.],\n",
       "       [0., 1.],\n",
       "       [0., 1.],\n",
       "       [1., 0.],\n",
       "       [1., 0.],\n",
       "       [1., 0.],\n",
       "       [0., 1.],\n",
       "       [0., 1.],\n",
       "       [0., 1.],\n",
       "       [0., 1.],\n",
       "       [0., 1.],\n",
       "       [0., 1.],\n",
       "       [1., 0.],\n",
       "       [0., 1.],\n",
       "       [1., 0.],\n",
       "       [1., 0.],\n",
       "       [0., 1.],\n",
       "       [0., 1.],\n",
       "       [1., 0.],\n",
       "       [1., 0.]], dtype=float32)"
      ]
     },
     "execution_count": 19,
     "metadata": {},
     "output_type": "execute_result"
    }
   ],
   "source": [
    "prediction_round"
   ]
  },
  {
   "cell_type": "code",
   "execution_count": 20,
   "metadata": {},
   "outputs": [],
   "source": [
    "Prediction_1_column = prediction_round[:,1]"
   ]
  },
  {
   "cell_type": "code",
   "execution_count": 21,
   "metadata": {},
   "outputs": [
    {
     "data": {
      "text/plain": [
       "array([1., 0., 0., 1., 1., 0., 0., 0., 0., 0., 0., 1., 1., 1., 1., 0., 1.,\n",
       "       0., 0., 1., 0., 0., 1., 0., 0., 0., 1., 0., 1., 0., 1., 1., 0., 0.,\n",
       "       0., 1., 1., 1., 1., 1., 1., 0., 1., 0., 0., 1., 1., 0., 0.],\n",
       "      dtype=float32)"
      ]
     },
     "execution_count": 21,
     "metadata": {},
     "output_type": "execute_result"
    }
   ],
   "source": [
    "Prediction_1_column "
   ]
  },
  {
   "cell_type": "code",
   "execution_count": 22,
   "metadata": {},
   "outputs": [
    {
     "data": {
      "text/plain": [
       "array([1, 0, 0, 1, 1, 0, 0, 0, 0, 1, 0, 1, 1, 1, 1, 1, 1, 0, 0, 1, 0, 0,\n",
       "       1, 0, 0, 0, 1, 0, 1, 0, 1, 1, 0, 0, 1, 1, 1, 1, 1, 1, 1, 0, 1, 0,\n",
       "       0, 1, 1, 0, 0])"
      ]
     },
     "execution_count": 22,
     "metadata": {},
     "output_type": "execute_result"
    }
   ],
   "source": [
    "test_targets"
   ]
  },
  {
   "cell_type": "code",
   "execution_count": 23,
   "metadata": {},
   "outputs": [],
   "source": [
    "from sklearn.metrics import confusion_matrix"
   ]
  },
  {
   "cell_type": "code",
   "execution_count": 24,
   "metadata": {},
   "outputs": [
    {
     "data": {
      "text/plain": [
       "array([[23,  0],\n",
       "       [ 3, 23]], dtype=int64)"
      ]
     },
     "execution_count": 24,
     "metadata": {},
     "output_type": "execute_result"
    }
   ],
   "source": [
    "cm = confusion_matrix(test_targets, Prediction_1_column)\n",
    "cm"
   ]
  },
  {
   "cell_type": "code",
   "execution_count": 25,
   "metadata": {},
   "outputs": [
    {
     "data": {
      "text/html": [
       "<div>\n",
       "<style scoped>\n",
       "    .dataframe tbody tr th:only-of-type {\n",
       "        vertical-align: middle;\n",
       "    }\n",
       "\n",
       "    .dataframe tbody tr th {\n",
       "        vertical-align: top;\n",
       "    }\n",
       "\n",
       "    .dataframe thead th {\n",
       "        text-align: right;\n",
       "    }\n",
       "</style>\n",
       "<table border=\"1\" class=\"dataframe\">\n",
       "  <thead>\n",
       "    <tr style=\"text-align: right;\">\n",
       "      <th></th>\n",
       "      <th>Predicted 0</th>\n",
       "      <th>Predicted 1</th>\n",
       "    </tr>\n",
       "  </thead>\n",
       "  <tbody>\n",
       "    <tr>\n",
       "      <th>Actual 0</th>\n",
       "      <td>23</td>\n",
       "      <td>0</td>\n",
       "    </tr>\n",
       "    <tr>\n",
       "      <th>Actual 1</th>\n",
       "      <td>3</td>\n",
       "      <td>23</td>\n",
       "    </tr>\n",
       "  </tbody>\n",
       "</table>\n",
       "</div>"
      ],
      "text/plain": [
       "          Predicted 0  Predicted 1\n",
       "Actual 0           23            0\n",
       "Actual 1            3           23"
      ]
     },
     "execution_count": 25,
     "metadata": {},
     "output_type": "execute_result"
    }
   ],
   "source": [
    "#MAKING A DATAFRAME FOR THE CONFUSION MATRIX\n",
    "\n",
    "cm_df = pd.DataFrame(cm)\n",
    "cm_df.columns = ['Predicted 0','Predicted 1']\n",
    "cm_df = cm_df.rename(index={0: 'Actual 0',1:'Actual 1'})\n",
    "cm_df"
   ]
  },
  {
   "cell_type": "code",
   "execution_count": 26,
   "metadata": {},
   "outputs": [
    {
     "data": {
      "text/plain": [
       "Text(30.5, 0.5, 'Truth')"
      ]
     },
     "execution_count": 26,
     "metadata": {},
     "output_type": "execute_result"
    },
    {
     "data": {
      "image/png": "[encoded data removed]",
      "text/plain": [
       "<Figure size 432x288 with 2 Axes>"
      ]
     },
     "metadata": {},
     "output_type": "display_data"
    }
   ],
   "source": [
    "#TO VISUALIZE THE CONFUSION MATRIX\n",
    "\n",
    "#plt.figure(figsize = (12,10))\n",
    "sns.heatmap(cm, annot = True,annot_kws={'size':40}, linewidths=.5)\n",
    "#plt.xlim(-1, 10)\n",
    "#plt.ylim(-2, 30)\n",
    "plt.xlabel(\"Predicted\")\n",
    "plt.ylabel(\"Truth\")"
   ]
  },
  {
   "cell_type": "code",
   "execution_count": 27,
   "metadata": {},
   "outputs": [],
   "source": [
    "\n",
    "model.save('tensorflow brest cancer- 2 output-categorical cross entropy.h5')"
   ]
  },
  {
   "cell_type": "code",
   "execution_count": null,
   "metadata": {},
   "outputs": [],
   "source": []
  }
 ],
 "metadata": {
  "kernelspec": {
   "display_name": "Python 3",
   "language": "python",
   "name": "python3"
  },
  "language_info": {
   "codemirror_mode": {
    "name": "ipython",
    "version": 3
   },
   "file_extension": ".py",
   "mimetype": "text/x-python",
   "name": "python",
   "nbconvert_exporter": "python",
   "pygments_lexer": "ipython3",
   "version": "3.7.4"
  }
 },
 "nbformat": 4,
 "nbformat_minor": 2
}
